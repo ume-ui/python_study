{
 "cells": [
  {
   "cell_type": "markdown",
   "id": "359ea96f",
   "metadata": {},
   "source": [
    "## 일반 코드 (3문제)"
   ]
  },
  {
   "cell_type": "code",
   "execution_count": null,
   "id": "34351b86",
   "metadata": {},
   "outputs": [],
   "source": []
  }
 ],
 "metadata": {
  "language_info": {
   "name": "python"
  }
 },
 "nbformat": 4,
 "nbformat_minor": 5
}
