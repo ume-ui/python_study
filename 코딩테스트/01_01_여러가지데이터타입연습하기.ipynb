{
 "cells": [
  {
   "cell_type": "markdown",
   "metadata": {},
   "source": [
    "### **Day 1 미션: 데이터 타입 심화 문제집**\n",
    "\n",
    "아래는 데이터 분석에 필수적인 파이썬 데이터 타입(문자열, 리스트, 딕셔너리)에 대한 문제입니다. 각 문제의 상세한 설명과 데이터 분석에서 사용되는 의도를 파악하고, 주어진 코드 블록에 해답을 작성해 보세요. 이번 버전은 각 문제의 의도를 **Pandas**와 **NumPy** 라이브러리와 연결하여 설명합니다."
   ]
  },
  {
   "cell_type": "markdown",
   "metadata": {},
   "source": [
    "#### **문자열(String) 문제**"
   ]
  },
  {
   "cell_type": "markdown",
   "metadata": {},
   "source": [
    "**문제 1. 데이터 분리하기**\n",
    "* **문제 설명**: 쉼표(`,`)로 구분된 하나의 문자열을 각각의 요소를 담고 있는 리스트로 만드세요.\n",
    "* **데이터 분석 의도**: CSV(Comma-Separated Values) 형태의 텍스트 파일을 다룰 때, 한 행의 데이터를 각 열(column)의 값으로 분리하는 데 사용됩니다. \n",
    "* **Pandas에서 `pd.read_csv()` 함수가 파일을 읽어와 DataFrame을 생성하는 내부 과정은 이와 유사한 문자열 분리 로직을 사용합니다.**"
   ]
  },
  {
   "cell_type": "code",
   "execution_count": 12,
   "metadata": {},
   "outputs": [
    {
     "name": "stdout",
     "output_type": "stream",
     "text": [
      "['삼성전자,카카오,네이버,SK하이닉스']\n"
     ]
    }
   ],
   "source": [
    "data = \"삼성전자,카카오,네이버,SK하이닉스\"\n",
    "\n",
    "result = [data]\n",
    "# 여기에 코드를 작성하세요\n",
    "\n",
    "print(result)\n",
    "# 예상 출력: ['삼성전자', '카카오', '네이버', 'SK하이닉스']\n",
    "\n"
   ]
  },
  {
   "cell_type": "markdown",
   "metadata": {},
   "source": [
    "**문제 2. 불필요한 공백 제거하기**\n",
    "* **문제 설명**: 문자열 양 끝에 있는 공백(` `)이나 줄바꿈(`\\n`) 문자를 제거하여 깔끔하게 정리하세요.\n",
    "* **데이터 분석 의도**: 데이터 입력 오류로 인해 발생하는 불필요한 공백을 제거하여, '서울 '과 '서울'을 동일한 값으로 인식하게 만드는 데이터 정제(Data Cleaning) 작업에 필수적입니다.\n",
    "* **Pandas에서는 특정 열(Series)에 대해 `.str.strip()` 메서드를 사용하여 전체 열에 있는 문자열 공백을 한번에 제거할 수 있습니다.**"
   ]
  },
  {
   "cell_type": "code",
   "execution_count": 38,
   "metadata": {},
   "outputs": [
    {
     "name": "stdout",
     "output_type": "stream",
     "text": [
      "데이터 분석 입문\n"
     ]
    }
   ],
   "source": [
    "text = \"   데이터 분석 입문 \\n\"\n",
    "### 리플레이스 \n",
    "# 문자열.replace(바꿀_대상, 바꿀_내용) \n",
    "result = text.strip()\n",
    "\n",
    "\n",
    "\n",
    "# 여기에 코드를 작성하세요\n",
    "\n",
    "print(result)\n",
    "# 예상 출력: '데이터 분석 입문'"
   ]
  },
  {
   "cell_type": "markdown",
   "metadata": {},
   "source": [
    "**문제 3. 데이터 교체하기**\n",
    "* **문제 설명**: 문자열 내에 있는 특정 단어를 다른 단어로 변경하세요.\n",
    "* **데이터 분석 의도**: 데이터셋에서 '결측치'를 '0'으로 변경하거나, 'N/A'를 '결측'으로 통일하는 등, 데이터의 일관성을 확보하는 데 사용됩니다. \n",
    "* **Pandas에서는 `df['컬럼'].str.replace('old', 'new')`를 사용해 특정 열의 모든 문자열에서 원하는 패턴을 일괄적으로 변경합니다.**"
   ]
  },
  {
   "cell_type": "code",
   "execution_count": 40,
   "metadata": {},
   "outputs": [
    {
     "name": "stdout",
     "output_type": "stream",
     "text": [
      "가격 데이터에 0이 있습니다.\n"
     ]
    }
   ],
   "source": [
    "data = \"가격 데이터에 결측치가 있습니다.\"\n",
    "\n",
    "result = data.replace(\"결측치가\", \"0이\")\n",
    "\n",
    "# 여기에 코드를 작성하세요\n",
    "\n",
    "print(result)\n",
    "# 예상 출력: '가격 데이터에 0가 있습니다.'"
   ]
  },
  {
   "cell_type": "markdown",
   "metadata": {},
   "source": [
    "**문제 4. 특정 문자 위치 찾기**\n",
    "* **문제 설명**: 문자열에서 특정 문자가 처음 나타나는 위치(인덱스)를 찾으세요.\n",
    "* **데이터 분석 의도**: 복잡한 텍스트 데이터에서 특정 구분자나 패턴의 위치를 기준으로 문자열을 잘라내거나 분리하는 데 활용됩니다. \n",
    "* **Pandas의 `.str.find()` 메서드를 사용하면 특정 문자열의 위치를 쉽게 찾고 이를 기준으로 데이터를 전처리할 수 있습니다.**"
   ]
  },
  {
   "cell_type": "code",
   "execution_count": 46,
   "metadata": {},
   "outputs": [
    {
     "name": "stdout",
     "output_type": "stream",
     "text": [
      "8\n"
     ]
    }
   ],
   "source": [
    "log_entry = \"2025-08-10, INFO, Server is running\"\n",
    "\n",
    "\n",
    "result = log_entry.find(\"\")\n",
    "# 여기에 코드를 작성하세요\n",
    "\n",
    "print(result)\n",
    "# 예상 출력: 10"
   ]
  },
  {
   "cell_type": "markdown",
   "metadata": {},
   "source": [
    "**문제 5. 대소문자 통일하기**\n",
    "* **문제 설명**: 문자열의 모든 문자를 소문자로 변환하세요.\n",
    "* **데이터 분석 의도**: 'Apple'과 'apple'처럼 대소문자만 다른 데이터를 동일하게 취급하여 분석의 정확도를 높이는 데이터 표준화 작업에 사용됩니다.\n",
    "\n",
    "* **Pandas에서는 `df['컬럼'].str.lower()`를 통해 전체 열의 텍스트 데이터를 통일하여 중복을 제거하고 분석 정확도를 높일 수 있습니다.**"
   ]
  },
  {
   "cell_type": "code",
   "execution_count": null,
   "metadata": {},
   "outputs": [],
   "source": [
    "product_name = \"Apple Watch\"\n",
    "\n",
    "result = \"\"\n",
    "# 여기에 코드를 작성하세요\n",
    "\n",
    "print(result)\n",
    "# 예상 출력: 'apple watch'"
   ]
  },
  {
   "cell_type": "markdown",
   "metadata": {},
   "source": [
    "**문제 6. 접두사/접미사 확인**\n",
    "* **문제 설명**: 주어진 문자열이 특정 문자열로 시작하는지 여부를 `True` 또는 `False`로 반환하세요.\n",
    "* **데이터 분석 의도**: 파일명이나 상품 코드에서 'SK-'로 시작하는 상품만 필터링하거나, 특정 기간의 데이터만 선별하는 등 조건을 기반으로 데이터를 탐색하는 데 사용됩니다. \n",
    "\n",
    "* **Pandas에서 `df['컬럼'].str.startswith('SK-')`를 통해 불리언(Boolean) 마스킹을 생성하여 조건에 맞는 행만 추출할 수 있습니다.**"
   ]
  },
  {
   "cell_type": "code",
   "execution_count": null,
   "metadata": {},
   "outputs": [],
   "source": [
    "product_code = \"SK-1001\"\n",
    "\n",
    "result = \"\"\n",
    "# 여기에 코드를 작성하세요\n",
    "\n",
    "print(result)\n",
    "# 예상 출력: True"
   ]
  },
  {
   "cell_type": "markdown",
   "metadata": {},
   "source": [
    "**문제 7. 문자열 구성 확인**\n",
    "* **문제 설명**: 주어진 문자열이 모두 숫자로만 구성되어 있는지 `True` 또는 `False`로 확인하세요.\n",
    "* **데이터 분석 의도**: 가격이나 수량 데이터에 숫자가 아닌 문자가 포함되어 있는지 검증하여, 오류가 있는 데이터를 전처리하는 데 사용됩니다.\n",
    "\n",
    "* **Pandas의 `.str.isdigit()`을 사용하여 숫자형으로 변환하기 전 데이터의 유효성을 검사하는 데 유용합니다.**"
   ]
  },
  {
   "cell_type": "code",
   "execution_count": null,
   "metadata": {},
   "outputs": [],
   "source": [
    "price = \"12000\"\n",
    "\n",
    "result = \"\"\n",
    "# 여기에 코드를 작성하세요\n",
    "\n",
    "print(result)\n",
    "# 예상 출력: True"
   ]
  },
  {
   "cell_type": "markdown",
   "metadata": {},
   "source": [
    "**문제 8. 문자열 결합하기**\n",
    "* **문제 설명**: 리스트에 담긴 여러 문자열 요소를 특정 구분자로 합쳐 하나의 문자열로 만드세요.\n",
    "* **데이터 분석 의도**: 분리된 데이터(예: 년, 월, 일)를 다시 결합하여 '2025-08-10'과 같은 표준화된 날짜 형식으로 만드는 데 사용됩니다. \n",
    "\n",
    "* **Pandas에서는 여러 열(Series)의 문자열을 `+` 연산이나 `df['새컬럼'] = df['컬럼1'].str.cat(df['컬럼2'], sep='-')`를 사용해 결합할 수 있습니다.**"
   ]
  },
  {
   "cell_type": "code",
   "execution_count": null,
   "metadata": {},
   "outputs": [],
   "source": [
    "parts = ['2025', '08', '10']\n",
    "\n",
    "result = \"\"\n",
    "# 여기에 코드를 작성하세요\n",
    "\n",
    "print(result)\n",
    "# 예상 출력: '2025-08-10'"
   ]
  },
  {
   "cell_type": "code",
   "execution_count": 3,
   "metadata": {},
   "outputs": [
    {
     "name": "stdout",
     "output_type": "stream",
     "text": [
      "\n"
     ]
    }
   ],
   "source": [
    "parts = ['2025', '08', '10']\n",
    "\n",
    "result = \"\"\n",
    "\n",
    "print(result)"
   ]
  },
  {
   "cell_type": "markdown",
   "metadata": {},
   "source": [
    "**문제 9. 문자열 자르기**\n",
    "* **문제 설명**: 문자열의 특정 인덱스 범위를 지정하여 필요한 부분만 추출하세요.\n",
    "* **데이터 분석 의도**: 날짜 형식 데이터 '20250810'에서 연도(2025)만 추출하거나, 상품 코드 'SK-1001'에서 코드 번호(1001)만 추출하는 데 활용됩니다. \n",
    "\n",
    "* **Pandas에서 `df['컬럼'].str[0:4]`와 같은 슬라이싱을 통해 데이터의 특정 부분을 추출하여 새로운 컬럼을 만들 수 있습니다.**"
   ]
  },
  {
   "cell_type": "code",
   "execution_count": null,
   "metadata": {},
   "outputs": [],
   "source": [
    "date_string = \"20250810\"\n",
    "\n",
    "result = \"\"\n",
    "# 여기에 코드를 작성하세요\n",
    "\n",
    "print(result)\n",
    "# 예상 출력: '2025'"
   ]
  },
  {
   "cell_type": "markdown",
   "metadata": {},
   "source": [
    "**문제 10. 문자열 내 요소 개수 세기**\n",
    "* **문제 설명**: 문자열에서 특정 부분 문자열이 몇 번 나타나는지 횟수를 세세요.\n",
    "* **데이터 분석 의도**: 텍스트 데이터에서 특정 키워드의 출현 빈도를 분석하여, 긍정/부정 리뷰를 분류하거나 주요 키워드를 파악하는 텍스트 마이닝의 기초 작업에 사용됩니다. \n",
    "\n",
    "* **Pandas에서는 `.str.count()`를 사용해 텍스트 데이터의 키워드 빈도를 효율적으로 계산할 수 있습니다.**"
   ]
  },
  {
   "cell_type": "code",
   "execution_count": null,
   "metadata": {},
   "outputs": [],
   "source": [
    "text = \"파이썬 파이썬 파이썬 프로그래밍\"\n",
    "\n",
    "result = \"\"\n",
    "# 여기에 코드를 작성하세요\n",
    "\n",
    "print(result)\n",
    "# 예상 출력: 3"
   ]
  },
  {
   "cell_type": "markdown",
   "metadata": {},
   "source": [
    "**문제 11. 문자열 포맷팅**\n",
    "* **문제 설명**: `f-string`을 사용하여 변수의 값을 포함하는 문장을 만드세요.\n",
    "* **데이터 분석 의도**: 분석 결과를 보고서나 대시보드에 표시할 때, 변수 값을 포함하여 동적으로 문장을 생성하는 데 활용됩니다. \n",
    "* **Pandas에서는 여러 컬럼의 값을 조합하여 새로운 문자열 형태의 컬럼을 만들 때 `df.apply(lambda row: f\"...\", axis=1)`과 같은 방식으로 활용할 수 있습니다.**"
   ]
  },
  {
   "cell_type": "code",
   "execution_count": null,
   "metadata": {},
   "outputs": [],
   "source": [
    "item = '노트북'\n",
    "price = 1200000\n",
    "\n",
    "result = \"\"\n",
    "# 여기에 코드를 작성하세요\n",
    "\n",
    "print(result)\n",
    "# 예상 출력: '상품: 노트북, 가격: 1200000원'"
   ]
  },
  {
   "cell_type": "markdown",
   "metadata": {},
   "source": [
    "**문제 12. 복합 문자열 처리**\n",
    "* **문제 설명**: 주어진 문자열에 여러 메서드를 순차적으로 적용하여 데이터를 전처리하세요. 양 끝 공백을 제거하고, 모든 문자를 대문자로 바꾼 뒤 '가격:'을 빈 문자열로 교체합니다.\n",
    "* **데이터 분석 의도**: 실제 데이터 전처리 과정은 여러 단계의 정제 작업을 연속적으로 수행하는 경우가 많습니다. 이러한 복합적인 작업을 한 줄의 코드로 처리하는 연습을 합니다.\n",
    "* **Pandas에서는 `df['컬럼'].str.strip().str.upper().str.replace()`처럼 메서드 체이닝을 통해 여러 정제 작업을 효율적으로 처리할 수 있습니다.**"
   ]
  },
  {
   "cell_type": "code",
   "execution_count": null,
   "metadata": {},
   "outputs": [],
   "source": [
    "messy_data = \"  상품: TV, 가격: 150만원  \"\n",
    "\n",
    "result = ''\n",
    "# 여기에 코드를 작성하세요\n",
    "\n",
    "print(result)\n",
    "# 예상 출력: '상품: TV, 150만원'"
   ]
  },
  {
   "cell_type": "markdown",
   "metadata": {},
   "source": [
    "---"
   ]
  },
  {
   "cell_type": "markdown",
   "metadata": {},
   "source": [
    "#### **리스트(List) 문제**"
   ]
  },
  {
   "cell_type": "markdown",
   "metadata": {},
   "source": [
    "**문제 1. 특정 요소 접근하기**\n",
    "* **문제 설명**: 리스트의 인덱스를 사용하여 세 번째 요소에 접근하세요.\n",
    "* **데이터 분석 의도**: 시계열 데이터에서 특정 시점의 값(예: 3일차 판매량)을 가져오거나, 정렬된 데이터에서 특정 순위의 값을 추출하는 데 사용됩니다.\n",
    "* **Pandas의 `.iloc[]` 인덱서가 이와 동일한 개념으로 행 번호를 사용하여 데이터에 접근합니다.**"
   ]
  },
  {
   "cell_type": "code",
   "execution_count": null,
   "metadata": {},
   "outputs": [],
   "source": [
    "data = [10, 20, 30, 40, 50]\n",
    "\n",
    "result = \"\"\n",
    "# 여기에 코드를 작성하세요\n",
    "\n",
    "print(result)\n",
    "# 예상 출력: 30"
   ]
  },
  {
   "cell_type": "markdown",
   "metadata": {},
   "source": [
    "**문제 2. 데이터 범위 추출하기**\n",
    "* **문제 설명**: 슬라이싱을 사용하여 두 번째 요소부터 네 번째 요소까지의 값을 추출하세요.\n",
    "* **데이터 분석 의도**: 특정 기간(예: 2분기)의 데이터만 잘라내거나, 데이터셋의 일부 샘플을 추출하여 탐색하는 데 사용됩니다. \n",
    "* **Pandas의 `.iloc[1:4]`와 같은 슬라이싱은 데이터의 특정 행 범위를 추출하는 데 사용됩니다.**"
   ]
  },
  {
   "cell_type": "code",
   "execution_count": null,
   "metadata": {},
   "outputs": [],
   "source": [
    "data = [10, 20, 30, 40, 50]\n",
    "\n",
    "result = []\n",
    "# 여기에 코드를 작성하세요\n",
    "\n",
    "print(result)\n",
    "# 예상 출력: [20, 30, 40]"
   ]
  },
  {
   "cell_type": "markdown",
   "metadata": {},
   "source": [
    "**문제 3. 데이터 추가하기**\n",
    "* **문제 설명**: `data` 리스트의 마지막에 `40`을 추가하세요."
   ]
  },
  {
   "cell_type": "code",
   "execution_count": null,
   "metadata": {},
   "outputs": [],
   "source": [
    "data = [10, 20, 30]\n",
    "\n",
    "# 여기에 코드를 작성하세요\n",
    "\n",
    "print(data)\n",
    "# 예상 출력: [10, 20, 30, 40]"
   ]
  },
  {
   "cell_type": "markdown",
   "metadata": {},
   "source": [
    "* **문제 설명**: `data` 리스트의 마지막에 `40` `50`을 추가하세요.\n",
    "* `40`, `50`을 각각 넣지말고 `add_data` 리스트를 그대로 사용할 것"
   ]
  },
  {
   "cell_type": "code",
   "execution_count": null,
   "metadata": {},
   "outputs": [],
   "source": [
    "data = [10, 20, 30]\n",
    "add_data = [40, 50]\n",
    "\n",
    "# 여기에 코드를 작성하세요\n",
    "\n",
    "print(data)\n",
    "# 예상 출력: [10, 20, 30, 40, 50]"
   ]
  },
  {
   "cell_type": "markdown",
   "metadata": {},
   "source": [
    "**문제 4. 데이터 삽입하기**\n",
    "* **문제 설명**: `data` 리스트의 두 번째 위치(인덱스 1)에 `'B'`를 삽입하세요.\n",
    "* **데이터 분석 의도**: 순서가 중요한 데이터셋에서 누락된 데이터를 올바른 위치에 삽입하여 데이터의 무결성을 유지하는 데 사용됩니다."
   ]
  },
  {
   "cell_type": "code",
   "execution_count": null,
   "metadata": {},
   "outputs": [],
   "source": [
    "data = ['A', 'C', 'D']\n",
    "\n",
    "# 여기에 코드를 작성하세요\n",
    "\n",
    "print(data)\n",
    "# 예상 출력: ['A', 'B', 'C', 'D']"
   ]
  },
  {
   "cell_type": "markdown",
   "metadata": {},
   "source": [
    "**문제 5. 데이터 제거하기**\n",
    "* **문제 설명**: `data` 리스트에서 값 `바나나`를 제거하세요. 만약 여러 개가 있다면 첫 번째로 발견된 것만 제거됩니다.\n",
    "* **데이터 분석 의도**: 데이터셋에서 특정 값(예: 잘못 입력된 'null' 값)을 찾아 제거하는 데 사용됩니다. "
   ]
  },
  {
   "cell_type": "code",
   "execution_count": null,
   "metadata": {},
   "outputs": [],
   "source": [
    "data = ['사과', '바나나', '딸기', '바나나']\n",
    "\n",
    "# 여기에 코드를 작성하세요\n",
    "\n",
    "print(data)\n",
    "# 예상 출력: ['사과', '딸기', '바나나']"
   ]
  },
  {
   "cell_type": "markdown",
   "metadata": {},
   "source": [
    "**문제 6. 인덱스로 데이터 제거하기**\n",
    "* **문제 설명**: `data` 리스트에서 인덱스 1에 해당하는 데이터를 제거하세요.\n",
    "* **데이터 분석 의도**: 특정 위치의 잘못된 데이터를 인덱스를 통해 제거하는 데 사용됩니다. \n",
    "* **Pandas의 `df.drop(index=1)` 메서드는 특정 인덱스를 지정하여 행을 제거하는 데 사용됩니다.**"
   ]
  },
  {
   "cell_type": "code",
   "execution_count": null,
   "metadata": {},
   "outputs": [],
   "source": [
    "data = ['A', 'B', 'C']\n",
    "\n",
    "# 여기에 코드를 작성하세요\n",
    "\n",
    "print(data)\n",
    "# 예상 출력: ['A', 'C']"
   ]
  },
  {
   "cell_type": "markdown",
   "metadata": {},
   "source": [
    "**문제 7. 데이터 정렬하기 (in-place)**\n",
    "* **문제 설명**: `scores` 리스트의 요소들을 오름차순으로 정렬하세요. 이 방법은 원본 리스트의 순서를 변경합니다.\n",
    "* **데이터 분석 의도**: 데이터를 크기 순서로 정렬하여 패턴을 파악하거나 순위를 매기는 등, 데이터 탐색과 분석의 기초 작업에 사용됩니다.\n",
    "* **Pandas의 `df.sort_values(inplace=True)` 옵션은 원본 DataFrame의 순서를 직접 변경합니다.**"
   ]
  },
  {
   "cell_type": "code",
   "execution_count": null,
   "metadata": {},
   "outputs": [],
   "source": [
    "scores = [85, 90, 75]\n",
    "\n",
    "# 여기에 코드를 작성하세요\n",
    "\n",
    "print(scores)\n",
    "# 예상 출력: [75, 85, 90]"
   ]
  },
  {
   "cell_type": "markdown",
   "metadata": {},
   "source": [
    "**문제 8. 데이터 정렬하기 (새 리스트)**\n",
    "* **문제 설명**: `scores` 리스트를 정렬한 새로운 리스트를 생성하고, 원본 리스트는 그대로 유지하세요.\n",
    "* **데이터 분석 의도**: 원본 데이터를 훼손하지 않으면서 정렬된 데이터를 얻고 싶을 때 사용됩니다. \n",
    "* **Pandas의 `df.sort_values()`는 기본적으로 원본을 변경하지 않고 정렬된 새로운 DataFrame을 반환합니다.**"
   ]
  },
  {
   "cell_type": "code",
   "execution_count": null,
   "metadata": {},
   "outputs": [],
   "source": [
    "scores = [85, 90, 75]\n",
    "\n",
    "sorted_scores = []\n",
    "# 여기에 코드를 작성하세요\n",
    "\n",
    "print(sorted_scores)\n",
    "# 예상 출력: [75, 85, 90]"
   ]
  },
  {
   "cell_type": "markdown",
   "metadata": {},
   "source": [
    "**문제 9. 조건에 맞는 데이터 필터링하기**\n",
    "* **문제 설명**: 반복문과 조건문을 사용하여, `scores` 리스트에서 점수가 80점 이상인 요소만 골라 `filtered_scores` 리스트에 추가하세요.\n",
    "* **데이터 분석 의도**: 특정 조건을 만족하는 데이터(예: 80점 이상인 고객)만 따로 추출하여 분석하는 데 사용됩니다. \n",
    "* **Pandas의 `df[df['컬럼'] >= 80]`과 같은 불리언 마스킹은 이 과정을 한 줄로 처리하는 매우 강력한 기능입니다.**"
   ]
  },
  {
   "cell_type": "code",
   "execution_count": null,
   "metadata": {},
   "outputs": [],
   "source": [
    "scores = [85, 90, 75, 95, 80]\n",
    "filtered_scores = []\n",
    "\n",
    "# 여기에 코드를 작성하세요\n",
    "\n",
    "print(filtered_scores)\n",
    "# 예상 출력: [85, 90, 95, 80]"
   ]
  },
  {
   "cell_type": "markdown",
   "metadata": {},
   "source": [
    "**문제 10. 리스트의 모든 요소 변형하기**\n",
    "* **문제 설명**: 반복문을 사용하여 `numbers` 리스트의 모든 요소를 제곱한 새로운 리스트를 만드세요.\n",
    "* **데이터 분석 의도**: 데이터의 스케일을 변경하거나, 특정 통계량을 계산하기 위해 데이터셋의 모든 요소에 동일한 연산(예: 로그 변환)을 적용하는 데 사용됩니다. \n",
    "* **NumPy 배열에 대한 `arr ** 2`와 같은 벡터화된 연산은 이 과정을 반복문 없이 매우 빠르게 수행합니다.**"
   ]
  },
  {
   "cell_type": "code",
   "execution_count": null,
   "metadata": {},
   "outputs": [
    {
     "name": "stdout",
     "output_type": "stream",
     "text": [
      "   숫자\n",
      "0   1\n",
      "1   2\n",
      "2   3\n",
      "3   4\n",
      "4   5\n",
      "   숫자\n",
      "0   1\n",
      "1   4\n",
      "2   9\n",
      "3  16\n",
      "4  25\n",
      "[ 1  4  9 16 25]\n"
     ]
    }
   ],
   "source": [
    "numbers = [1, 2, 3, 4, 5]\n",
    "squared_numbers = []\n",
    "\n",
    "# 여기에 코드를 작성하세요\n",
    "\n",
    "print(squared_numbers)\n",
    "# 예상 출력: [1, 4, 9, 16, 25]"
   ]
  },
  {
   "cell_type": "markdown",
   "metadata": {},
   "source": [
    "**문제 11. 이중 리스트에서 특정 값 찾기**\n",
    "* **문제 설명**: `data` 리스트는 여러 행(row)을 가진 2차원 테이블 형태입니다. 이중 반복문을 사용하여 값 `5`를 찾으면 `found` 변수를 `True`로 바꾸고 반복을 중단하세요.\n",
    "* **데이터 분석 의도**: 행과 열로 구성된 표 형태의 데이터에서 특정 값을 찾는 데 사용됩니다."
   ]
  },
  {
   "cell_type": "code",
   "execution_count": null,
   "metadata": {},
   "outputs": [
    {
     "name": "stdout",
     "output_type": "stream",
     "text": [
      "1\n",
      "2\n",
      "2\n",
      "3\n",
      "4\n",
      "5\n",
      "5\n",
      "6\n",
      "7\n",
      "8\n",
      "8\n",
      "9\n",
      "미발견\n"
     ]
    }
   ],
   "source": [
    "data = [[1, 2, 3], [4, 5, 6], [7, 8, 9]]\n",
    "target = 5\n",
    "found = False\n",
    "\n",
    "# 여기에 코드를 작성하세요\n",
    "\n",
    "print(\"발견\" if found else \"미발견\")\n",
    "# 예상 출력: 발견"
   ]
  },
  {
   "cell_type": "markdown",
   "metadata": {},
   "source": [
    "**문제 12. 두 리스트 병합하기**\n",
    "* **문제 설명**: 두 개의 리스트를 합쳐 하나의 리스트로 만드세요.\n",
    "* **데이터 분석 의도**: 여러 파일이나 소스에서 수집한 데이터 리스트를 하나로 통합하여 분석하는 데 사용됩니다. \n",
    "* **Pandas의 `pd.concat()` 함수는 여러 DataFrame을 위아래로 합쳐(append) 하나의 데이터셋으로 만드는 데 주로 사용됩니다.**"
   ]
  },
  {
   "cell_type": "code",
   "execution_count": null,
   "metadata": {},
   "outputs": [],
   "source": [
    "list1 = [1, 2, 3]\n",
    "list2 = [4, 5, 6]\n",
    "\n",
    "merged_list = []\n",
    "# 여기에 코드를 작성하세요\n",
    "\n",
    "print(merged_list)\n",
    "# 예상 출력: [1, 2, 3, 4, 5, 6]"
   ]
  },
  {
   "cell_type": "markdown",
   "metadata": {},
   "source": [
    "---"
   ]
  },
  {
   "cell_type": "markdown",
   "metadata": {},
   "source": [
    "#### **딕셔너리(Dictionary) 문제**"
   ]
  },
  {
   "cell_type": "markdown",
   "metadata": {},
   "source": [
    "**문제 1. 값 접근하기**\n",
    "* **문제 설명**: 딕셔너리의 키(`'가격'`)를 사용하여 해당 값을 추출하세요.\n",
    "* **데이터 분석 의도**: 데이터 레코드(예: 고객 정보, 상품 정보)에서 특정 항목(예: 나이, 가격)의 값을 추출하는 가장 기본적인 방법입니다. \n",
    "* **Pandas DataFrame에서 `df['가격']`과 같은 방식으로 특정 열에 접근하는 것과 동일한 원리입니다.**"
   ]
  },
  {
   "cell_type": "code",
   "execution_count": null,
   "metadata": {},
   "outputs": [],
   "source": [
    "stock = {'상품명': '노트북', '가격': 1200000, '재고': 50}\n",
    "\n",
    "result = 0\n",
    "# 여기에 코드를 작성하세요\n",
    "\n",
    "print(result)\n",
    "# 예상 출력: 1200000"
   ]
  },
  {
   "cell_type": "markdown",
   "metadata": {},
   "source": [
    "**문제 2. 데이터 추가하기**\n",
    "* **문제 설명**: `stock` 딕셔너리에 `'제조사'` 키와 `'삼성'` 값을 추가하세요.\n",
    "* **데이터 분석 의도**: 기존 데이터 레코드에 새로운 정보(예: 판매 채널, 제조일자)를 추가하여 데이터를 보강하는 데 사용됩니다. \n",
    "* **Pandas에서는 `df['새로운 컬럼명'] = 새로운 데이터`와 같은 방식으로 DataFrame에 새로운 열을 추가합니다.**"
   ]
  },
  {
   "cell_type": "code",
   "execution_count": null,
   "metadata": {},
   "outputs": [],
   "source": [
    "stock = {'상품명': '노트북'}\n",
    "\n",
    "# 여기에 코드를 작성하세요\n",
    "\n",
    "print(stock)\n",
    "# 예상 출력: {'상품명': '노트북', '제조사': '삼성'}"
   ]
  },
  {
   "cell_type": "markdown",
   "metadata": {},
   "source": [
    "**문제 3. 데이터 업데이트하기**\n",
    "* **문제 설명**: `stock` 딕셔너리의 `'재고'` 값을 `40`으로 변경하세요.\n",
    "* **데이터 분석 의도**: 데이터의 최신 정보를 반영하거나 오류 데이터를 수정하는 등, 기존 데이터를 변경하는 데 사용됩니다. **Pandas에서 `df['재고'] = 40`처럼 특정 열의 값을 일괄 변경하거나, `df.loc[조건, '컬럼'] = 값`처럼 조건에 맞는 값을 변경하는 것과 동일한 원리입니다.**"
   ]
  },
  {
   "cell_type": "code",
   "execution_count": null,
   "metadata": {},
   "outputs": [],
   "source": [
    "stock = {'가격': 1200000, '재고': 50}\n",
    "\n",
    "# 여기에 코드를 작성하세요\n",
    "\n",
    "print(stock)\n",
    "# 예상 출력: {'가격': 1200000, '재고': 40}"
   ]
  },
  {
   "cell_type": "markdown",
   "metadata": {},
   "source": [
    "**문제 4. 모든 키 가져오기**\n",
    "* **문제 설명**: 딕셔너리의 모든 키(key)들을 리스트 형태로 가져오세요.\n",
    "* **데이터 분석 의도**: 데이터셋의 열(column) 이름을 확인하거나, 특정 열이 존재하는지 검사하는 데 사용됩니다. \n",
    "* **Pandas DataFrame의 `.columns` 속성을 사용하면 모든 열 이름을 확인하는 것과 같은 역할을 합니다.**"
   ]
  },
  {
   "cell_type": "code",
   "execution_count": null,
   "metadata": {},
   "outputs": [],
   "source": [
    "stock = {'상품명': '노트북', '가격': 1200000, '재고': 50}\n",
    "\n",
    "result = []\n",
    "# 여기에 코드를 작성하세요\n",
    "\n",
    "print(result)\n",
    "# 예상 출력: ['상품명', '가격', '재고']"
   ]
  },
  {
   "cell_type": "markdown",
   "metadata": {},
   "source": [
    "**문제 5. 모든 값 가져오기**\n",
    "* **문제 설명**: 딕셔너리의 모든 값(value)들을 리스트 형태로 가져오세요.\n",
    "* **데이터 분석 의도**: 특정 열의 모든 데이터 값을 추출하여 합계나 평균을 계산하는 등 요약 통계를 내는 데 사용됩니다. \n",
    "* **Pandas DataFrame의 `df.values`나 `df.to_numpy()`를 사용하면 DataFrame의 모든 값을 NumPy 배열로 가져와서 빠르게 연산할 수 있습니다.**"
   ]
  },
  {
   "cell_type": "code",
   "execution_count": null,
   "metadata": {},
   "outputs": [],
   "source": [
    "stock = {'상품명': '노트북', '가격': 1200000, '재고': 50}\n",
    "\n",
    "result = []\n",
    "# 여기에 코드를 작성하세요\n",
    "\n",
    "print(result)\n",
    "# 예상 출력: ['노트북', 1200000, 50]"
   ]
  },
  {
   "cell_type": "markdown",
   "metadata": {},
   "source": [
    "**문제 6. 키-값 쌍 순회하기**\n",
    "* **문제 설명**: `scores` 딕셔너리의 모든 과목 점수의 합계를 계산하세요.\n",
    "* **데이터 분석 의도**: `for` 반복문을 사용하여 데이터 레코드의 모든 항목을 순회하며 요약 통계(합계, 평균 등)를 계산하는 데 사용됩니다.\n",
    "* **Pandas에서는 `df['컬럼'].sum()`과 같은 내장 함수를 사용하지만, 복잡한 사용자 정의 함수를 적용할 때 `df.apply()` 내부에서 딕셔너리처럼 행을 순회하는 방식의 원리가 적용됩니다.**"
   ]
  },
  {
   "cell_type": "code",
   "execution_count": 56,
   "metadata": {},
   "outputs": [
    {
     "name": "stdout",
     "output_type": "stream",
     "text": [
      "267\n"
     ]
    }
   ],
   "source": [
    "scores = {'국어': 90, '영어': 85, '수학': 92}\n",
    "total = 0\n",
    "\n",
    "for score in scores.values():\n",
    "    total += score\n",
    "    \n",
    "   \n",
    "\n",
    "\n",
    "# 여기에 코드를 작성하세요\n",
    "\n",
    "print(total)\n",
    "# 예상 출력: 267"
   ]
  },
  {
   "cell_type": "code",
   "execution_count": 49,
   "metadata": {},
   "outputs": [
    {
     "data": {
      "text/plain": [
       "dict_values([90, 85, 92])"
      ]
     },
     "execution_count": 49,
     "metadata": {},
     "output_type": "execute_result"
    }
   ],
   "source": [
    "scores.values()\n",
    "\n"
   ]
  },
  {
   "cell_type": "markdown",
   "metadata": {},
   "source": [
    "**문제 7. 안전하게 값 가져오기**\n",
    "* **문제 설명**: 존재하지 않는 키를 찾을 때 발생하는 오류를 방지하고, 키가 없을 경우 `0`을 반환하세요.\n",
    "* **데이터 분석 의도**: 불완전한 데이터셋에서 특정 키가 누락되었을 때, 프로그램이 멈추지 않도록 예외 처리를 하는 데 사용됩니다. \n",
    "* **Pandas의 `df.get('없는컬럼', default=0)`을 사용하여 없는 컬럼에 접근할 때 오류를 방지할 수 있습니다.**"
   ]
  },
  {
   "cell_type": "code",
   "execution_count": null,
   "metadata": {},
   "outputs": [],
   "source": [
    "stock = {'상품명': '노트북'}\n",
    "\n",
    "result = -1\n",
    "# 여기에 코드를 작성하세요\n",
    "\n",
    "print(result)\n",
    "# 예상 출력: 0"
   ]
  },
  {
   "cell_type": "markdown",
   "metadata": {},
   "source": [
    "**문제 8. 키-값 쌍 제거하기**\n",
    "* **문제 설명**: `stock` 딕셔너리에서 `'가격'` 키와 해당 값을 제거하세요.\n",
    "* **데이터 분석 의도**: 분석에 필요 없는 열(column)을 제거하거나, 특정 키에 대한 정보가 유효하지 않을 때 해당 항목을 삭제하는 데 사용됩니다. \n",
    "* **Pandas의 `df.drop(columns='가격')`은 불필요한 열을 제거하는 데 사용되는 대표적인 함수입니다.**"
   ]
  },
  {
   "cell_type": "code",
   "execution_count": null,
   "metadata": {},
   "outputs": [],
   "source": [
    "stock = {'상품명': '노트북', '가격': 1200000}\n",
    "\n",
    "# 여기에 코드를 작성하세요\n",
    "\n",
    "print(stock)\n",
    "# 예상 출력: {'상품명': '노트북'}"
   ]
  },
  {
   "cell_type": "markdown",
   "metadata": {},
   "source": [
    "**문제 9. 조건에 맞는 딕셔너리 생성하기**\n",
    "* **문제 설명**: 반복문과 조건문을 사용하여, `scores` 딕셔너리에서 점수가 90점 이상인 과목만 포함하는 새로운 딕셔너리를 만드세요.\n",
    "* **데이터 분석 의도**: 특정 조건을 만족하는 데이터 레코드만 필터링하여 새로운 데이터셋을 구성하는 데 사용됩니다. \n",
    "* **Pandas에서는 `df[df['점수'] >= 90]`과 같은 불리언 마스킹을 사용해 조건에 맞는 행만 필터링하여 새로운 DataFrame을 생성하는 것과 동일한 개념입니다.**"
   ]
  },
  {
   "cell_type": "code",
   "execution_count": null,
   "metadata": {},
   "outputs": [],
   "source": [
    "scores = {'국어': 90, '영어': 85, '수학': 92}\n",
    "high_scores = {}\n",
    "\n",
    "# 여기에 코드를 작성하세요\n",
    "\n",
    "print(high_scores)\n",
    "# 예상 출력: {'국어': 90, '수학': 92}"
   ]
  },
  {
   "cell_type": "markdown",
   "metadata": {},
   "source": [
    "**문제 10. 딕셔너리 역전하기**\n",
    "* **문제 설명**: `name_to_id` 딕셔너리의 키와 값을 바꾸어 `id_to_name` 딕셔너리를 만드세요.\n",
    "* **데이터 분석 의도**: 데이터의 인덱싱 방식을 변경하거나, 키와 값을 서로 바꿔서 데이터를 조회하는 방식(예: 이름으로 ID를 찾는 것에서 ID로 이름을 찾는 것)을 전환하는 데 사용됩니다."
   ]
  },
  {
   "cell_type": "code",
   "execution_count": null,
   "metadata": {},
   "outputs": [],
   "source": [
    "name_to_id = {'Alice': 1, 'Bob': 2}\n",
    "id_to_name = {}\n",
    "\n",
    "# 여기에 코드를 작성하세요\n",
    "\n",
    "print(id_to_name)\n",
    "# 예상 출력: {1: 'Alice', 2: 'Bob'}"
   ]
  },
  {
   "cell_type": "markdown",
   "metadata": {},
   "source": [
    "**문제 11. 중첩 딕셔너리 접근**\n",
    "* **문제 설명**: 딕셔너리 안에 또 다른 딕셔너리가 있는 `profile` 데이터에서 `'직업'` 값을 추출하세요.\n",
    "* **데이터 분석 의도**: JSON 파일과 같이 복잡하고 계층적인 구조를 가진 데이터를 다룰 때, 필요한 값에 접근하는 방법을 익히는 데 사용됩니다. "
   ]
  },
  {
   "cell_type": "code",
   "execution_count": null,
   "metadata": {},
   "outputs": [],
   "source": [
    "profile = {'이름': '김민준', '정보': {'연령': 25, '직업': '데이터 분석가'}}\n",
    "\n",
    "result = ''\n",
    "# 여기에 코드를 작성하세요\n",
    "\n",
    "print(result)\n",
    "# 예상 출력: '데이터 분석가'"
   ]
  },
  {
   "cell_type": "markdown",
   "metadata": {},
   "source": [
    "**문제 12. 딕셔너리 리스트의 값 변경**\n",
    "* **문제 설명**: `products` 리스트는 여러 상품 레코드를 담고 있습니다. 첫 번째 상품의 `'stock'` 값을 `5`로 변경하세요.\n",
    "* **데이터 분석 의도**: '딕셔너리들의 리스트'는 데이터 분석에서 가장 흔한 데이터 구조입니다. 이 구조에서 특정 레코드의 값을 찾아 수정하는 방법을 익히는 데 사용됩니다.\n",
    "* **Pandas의 `df.loc[0, 'stock'] = 5`와 같은 방식으로 특정 행과 열의 값을 변경하는 것과 동일합니다.**"
   ]
  },
  {
   "cell_type": "code",
   "execution_count": null,
   "metadata": {},
   "outputs": [],
   "source": [
    "products = [{'id': 1, 'name': '키보드', 'stock': 10}, {'id': 2, 'name': '마우스', 'stock': 20}]\n",
    "\n",
    "# 여기에 코드를 작성하세요\n",
    "\n",
    "print(products)\n",
    "# 예상 출력: [{'id': 1, 'name': '키보드', 'stock': 5}, {'id': 2, 'name': '마우스', 'stock': 20}]"
   ]
  }
 ],
 "metadata": {
  "kernelspec": {
   "display_name": "cording (3.11.13)",
   "language": "python",
   "name": "python3"
  },
  "language_info": {
   "codemirror_mode": {
    "name": "ipython",
    "version": 3
   },
   "file_extension": ".py",
   "mimetype": "text/x-python",
   "name": "python",
   "nbconvert_exporter": "python",
   "pygments_lexer": "ipython3",
   "version": "3.11.13"
  }
 },
 "nbformat": 4,
 "nbformat_minor": 4
}
