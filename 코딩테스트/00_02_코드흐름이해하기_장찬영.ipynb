{
 "cells": [
  {
   "cell_type": "markdown",
   "metadata": {},
   "source": [
    "# Python 코드 흐름 이해 퀴즈\n",
    "\n",
    "이 퀴즈는 Python의 **들여쓰기(Indentation)**와 **코드 흐름**에 대한 이해를 돕기 위해 만들어졌습니다. \n",
    "\n",
    "아래 각 문제의 코드를 보고, \n",
    "출력결과가 어떻게 될지 예상한 뒤,\n",
    "\n",
    "직접 실행하여 정답을 확인해 보세요."
   ]
  },
  {
   "cell_type": "markdown",
   "metadata": {},
   "source": [
    "---"
   ]
  },
  {
   "cell_type": "markdown",
   "metadata": {},
   "source": [
    "### 예시문제"
   ]
  },
  {
   "cell_type": "code",
   "execution_count": null,
   "metadata": {},
   "outputs": [],
   "source": [
    "# 1. 이 코드는 들여쓰기가 되어있지 않으므로, 항상 한 번 실행됩니다.\n",
    "print(\"1. 반복문 시작 전\")\n",
    "\n",
    "# 2. 이 코드는 'for' 반복문 안에 있으므로, for문이 실행되는 횟수만큼 반복됩니다.\n",
    "for i in range(2):\n",
    "    print(\"2. for문 안\")\n",
    "\n",
    "# 3. 이 코드는 'for' 반복문 안에 있지만, 'if' 조건문 안에 있으므로, if문의 조건이 만족할 때만 실행됩니다.\n",
    "    if i == 0:\n",
    "        print(\"3. if문 안\")\n",
    "\n",
    "# 4. 이 코드는 들여쓰기가 되어있지 않으므로, for문이 끝난 후에 한 번 실행됩니다.\n",
    "print(\"4. 반복문 종료 후\")"
   ]
  },
  {
   "cell_type": "markdown",
   "metadata": {},
   "source": [
    "#### 일반 코드 (3문제)"
   ]
  },
  {
   "cell_type": "markdown",
   "metadata": {},
   "source": [
    "**1. 아래 코드를 실행했을 때, 각 줄이 몇 번 출력될까요?**"
   ]
  },
  {
   "cell_type": "markdown",
   "metadata": {},
   "source": [
    "```python\n",
    "print(\"첫 번째 줄\")\n",
    "print(\"두 번째 줄\")\n",
    "print(\"세 번째 줄\")\n",
    "```\n"
   ]
  },
  {
   "cell_type": "code",
   "execution_count": 5,
   "metadata": {},
   "outputs": [
    {
     "name": "stdout",
     "output_type": "stream",
     "text": [
      "첫 번째 줄\n",
      "두 번째 줄\n",
      "세 번째 줄\n"
     ]
    }
   ],
   "source": [
    "print(\"첫 번째 줄\")\n",
    "print(\"두 번째 줄\")\n",
    "print(\"세 번째 줄\")"
   ]
  },
  {
   "cell_type": "markdown",
   "metadata": {},
   "source": [
    "**2. 아래 코드를 실행했을 때, 각 줄이 몇 번 출력될까요?**"
   ]
  },
  {
   "cell_type": "markdown",
   "metadata": {},
   "source": [
    "```python\n",
    "x = 10\n",
    "y = 20\n",
    "z = x + y\n",
    "print(z)\n",
    "print(\"계산 끝\")\n",
    "```\n",
    "\n",
    "30 \\\n",
    "계산 끝"
   ]
  },
  {
   "cell_type": "markdown",
   "metadata": {},
   "source": [
    "**3. 아래 코드를 실행했을 때, 각 줄이 몇 번 출력될까요?**"
   ]
  },
  {
   "cell_type": "markdown",
   "metadata": {},
   "source": [
    "```python\n",
    "a = \"Hello\"\n",
    "b = \"World\"\n",
    "print(a)\n",
    "print(b)\n",
    "```\n",
    "\n",
    "a \\  \n",
    "b"
   ]
  },
  {
   "cell_type": "markdown",
   "metadata": {},
   "source": [
    "---"
   ]
  },
  {
   "cell_type": "markdown",
   "metadata": {},
   "source": [
    "#### 조건문 (6문제)"
   ]
  },
  {
   "cell_type": "markdown",
   "metadata": {},
   "source": [
    "**4. 아래 코드를 실행했을 때, 각 문자열이 몇 번 출력될까요?**"
   ]
  },
  {
   "cell_type": "markdown",
   "metadata": {},
   "source": [
    "\n",
    "```python\n",
    "x = 5\n",
    "if x > 3:\n",
    "    print(\"조건 1\")\n",
    "else:\n",
    "    print(\"조건 2\")\n",
    "print(\"끝\")\n",
    "```\n",
    "\n",
    "조건 1 \\\n",
    "끝"
   ]
  },
  {
   "cell_type": "markdown",
   "metadata": {},
   "source": [
    "**5. 아래 코드를 실행했을 때, 각 문자열이 몇 번 출력될까요?**"
   ]
  },
  {
   "cell_type": "markdown",
   "metadata": {},
   "source": [
    "```python\n",
    "age = 20\n",
    "if age < 18:\n",
    "    print(\"미성년자\")\n",
    "else:\n",
    "    print(\"성인\")\n",
    "print(\"확인 완료\")\n",
    "```\n",
    "\n",
    "성인 \\\n",
    "확인완료 "
   ]
  },
  {
   "cell_type": "markdown",
   "metadata": {},
   "source": [
    "**6. 아래 코드를 실행했을 때, 각 문자열이 몇 번 출력될까요?**"
   ]
  },
  {
   "cell_type": "markdown",
   "metadata": {},
   "source": [
    "```python\n",
    "is_admin = True\n",
    "if is_admin:\n",
    "    print(\"관리자입니다.\")\n",
    "    print(\"접근을 허용합니다.\")\n",
    "else:\n",
    "    print(\"일반 사용자입니다.\")\n",
    "print(\"로그인 페이지\")\n",
    "```\n",
    "\n",
    "\n",
    "관리자입니다 \\\n",
    "접근을 허용합니다\\\n",
    "로그인 페이지"
   ]
  },
  {
   "cell_type": "markdown",
   "metadata": {},
   "source": [
    "**7. 아래 코드를 실행했을 때, 각 문자열이 몇 번 출력될까요?**"
   ]
  },
  {
   "cell_type": "markdown",
   "metadata": {},
   "source": [
    "```python\n",
    "score = 85\n",
    "if score >= 90:\n",
    "    print(\"A\")\n",
    "elif score >= 80:\n",
    "    print(\"B\")\n",
    "elif score >= 70:\n",
    "    print(\"C\")\n",
    "else:\n",
    "    print(\"F\")\n",
    "```\n",
    "\n",
    "B"
   ]
  },
  {
   "cell_type": "markdown",
   "metadata": {},
   "source": [
    "**8. 아래 코드를 실행했을 때, 각 문자열이 몇 번 출력될까요?**"
   ]
  },
  {
   "cell_type": "markdown",
   "metadata": {},
   "source": [
    "```python\n",
    "x = 10\n",
    "y = 5\n",
    "if x > 5 and y < 10:\n",
    "    print(\"두 조건 모두 참\")\n",
    "else:\n",
    "    print(\"조건 중 하나 이상 거짓\")\n",
    "```\n",
    "\n",
    "두 조건 모두 참 "
   ]
  },
  {
   "cell_type": "markdown",
   "metadata": {},
   "source": [
    "**9. 아래 코드를 실행했을 때, 각 문자열이 몇 번 출력될까요?**"
   ]
  },
  {
   "cell_type": "markdown",
   "metadata": {},
   "source": [
    "```python\n",
    "is_raining = False\n",
    "if not is_raining:\n",
    "    print(\"우산이 필요 없습니다.\")\n",
    "print(\"외출 준비\")\n",
    "```\n",
    "\n",
    "우산이 필요 필요 없습니다. \\\n",
    "외출 준비"
   ]
  },
  {
   "cell_type": "markdown",
   "metadata": {},
   "source": [
    "---"
   ]
  },
  {
   "cell_type": "markdown",
   "metadata": {},
   "source": [
    "#### 반복문 (6문제)"
   ]
  },
  {
   "cell_type": "markdown",
   "metadata": {},
   "source": [
    "**10. 아래 코드를 실행했을 때, 각 문자열이 몇 번 출력될까요?**"
   ]
  },
  {
   "cell_type": "markdown",
   "metadata": {},
   "source": [
    "```python\n",
    "for i in range(5):\n",
    "    print(\"반복 중\")\n",
    "print(\"반복 끝\")\n",
    "```\n",
    "\n",
    "0  \n",
    "1  \n",
    "2  \n",
    "3  \n",
    "4  \n",
    "반복 끝 \n"
   ]
  },
  {
   "cell_type": "markdown",
   "metadata": {},
   "source": [
    "**11. 아래 코드를 실행했을 때, 각 문자열이 몇 번 출력될까요?**"
   ]
  },
  {
   "cell_type": "markdown",
   "metadata": {},
   "source": [
    "```python\n",
    "total = 0\n",
    "for i in range(3):\n",
    "    total = total + i\n",
    "print(\"총합:\", total)\n",
    "```\n",
    "\n",
    "총합 0   \n",
    "총합 1      \n",
    "총합 2 \n",
    "\n"
   ]
  },
  {
   "cell_type": "markdown",
   "metadata": {},
   "source": [
    "**12. 아래 코드를 실행했을 때, 각 문자열이 몇 번 출력될까요?**"
   ]
  },
  {
   "cell_type": "markdown",
   "metadata": {},
   "source": [
    "```python\n",
    "while True:\n",
    "    print(\"무한 루프\")\n",
    "    break\n",
    "print(\"루프 종료\")\n",
    "```\n",
    "\n",
    "무한 루프 1  \n",
    "루프 종료 1"
   ]
  },
  {
   "cell_type": "markdown",
   "metadata": {},
   "source": [
    "**13. 아래 코드를 실행했을 때, 각 문자열이 몇 번 출력될까요?**"
   ]
  },
  {
   "cell_type": "markdown",
   "metadata": {},
   "source": [
    "```python\n",
    "count = 0\n",
    "while count < 4:\n",
    "    print(count)\n",
    "    count = count + 1\n",
    "print(\"카운트 종료\")\n",
    "```\n",
    "\n",
    "count   \n",
    "count  \n",
    "count  \n",
    "카운트 종료 "
   ]
  },
  {
   "cell_type": "markdown",
   "metadata": {},
   "source": [
    "**14. 아래 코드를 실행했을 때, 각 문자열이 몇 번 출력될까요?**"
   ]
  },
  {
   "cell_type": "markdown",
   "metadata": {},
   "source": [
    "```python\n",
    "for i in range(1, 4):\n",
    "    print(i * 2)\n",
    "print(\"계산 완료\")\n",
    "```\n",
    "\n",
    "2  \n",
    "4  \n",
    "6  \n",
    "계산 완료"
   ]
  },
  {
   "cell_type": "markdown",
   "metadata": {},
   "source": [
    "**15. 아래 코드를 실행했을 때, 각 문자열이 몇 번 출력될까요?**"
   ]
  },
  {
   "cell_type": "markdown",
   "metadata": {},
   "source": [
    "```python\n",
    "for char in \"Python\":\n",
    "    print(char)\n",
    "print(\"문자열 반복 끝\")\n",
    "```\n",
    "\n",
    "P  \n",
    "y  \n",
    "t  \n",
    "h  \n",
    "o  \n",
    "n  \n",
    "문자열 반복 끝   6번 "
   ]
  },
  {
   "cell_type": "markdown",
   "metadata": {},
   "source": [
    "---"
   ]
  },
  {
   "cell_type": "markdown",
   "metadata": {},
   "source": [
    "#### 이중 반복문 (3문제)"
   ]
  },
  {
   "cell_type": "markdown",
   "metadata": {},
   "source": [
    "**16. 아래 코드를 실행했을 때, 각 문자열이 몇 번 출력될까요?**"
   ]
  },
  {
   "cell_type": "markdown",
   "metadata": {},
   "source": [
    "```python\n",
    "for i in range(2):\n",
    "    print(\"바깥 반복문\")\n",
    "    for j in range(3):\n",
    "        print(\"안쪽 반복문\")\n",
    "print(\"모두 끝\")\n",
    "```\n",
    " \n",
    "바깥 반복문   \n",
    "안쪽 반복문  \n",
    "\n",
    "바깥 반복문   \n",
    "안쪽 반복문 \n",
    "\n",
    "바깥 반복문   \n",
    "안쪽 반복문    \n",
    "\n",
    "안쪽 반복문   \n",
    "모두 끝     "
   ]
  },
  {
   "cell_type": "markdown",
   "metadata": {},
   "source": [
    "**17. 아래 코드를 실행했을 때, 각 문자열이 몇 번 출력될까요?**"
   ]
  },
  {
   "cell_type": "markdown",
   "metadata": {},
   "source": [
    "```python\n",
    "for i in range(2):\n",
    "    for j in range(2):\n",
    "        print(f\"i:{i}, j:{j}\")\n",
    "print(\"완료\")\n",
    "```\n",
    "\n",
    "0   \n",
    "0    \n",
    "  \n",
    "1   \n",
    "1     \n",
    "완료"
   ]
  },
  {
   "cell_type": "markdown",
   "metadata": {},
   "source": [
    "**18. 아래 코드를 실행했을 때, 각 문자열이 몇 번 출력될까요?**"
   ]
  },
  {
   "cell_type": "markdown",
   "metadata": {},
   "source": [
    "```python\n",
    "for i in range(3):\n",
    "    for j in range(1):\n",
    "        print(\"Inner\")\n",
    "    print(\"Outer\")\n",
    "```\n",
    "\n",
    "0   \n",
    "0  \n",
    "inner \n",
    "\n",
    "1  \n",
    "inner \n",
    "\n",
    "2  \n",
    "inner \n",
    "\n",
    "outer \n",
    "\n"
   ]
  },
  {
   "cell_type": "markdown",
   "metadata": {},
   "source": [
    "---"
   ]
  },
  {
   "cell_type": "markdown",
   "metadata": {},
   "source": [
    "#### 함수 (3문제)"
   ]
  },
  {
   "cell_type": "markdown",
   "metadata": {},
   "source": [
    "**19. 아래 코드를 실행했을 때, 각 문자열이 몇 번 출력될까요?**"
   ]
  },
  {
   "cell_type": "markdown",
   "metadata": {},
   "source": [
    "```python\n",
    "def my_function():\n",
    "    print(\"함수 내부\")\n",
    "\n",
    "print(\"함수 호출 전\")\n",
    "my_function()\n",
    "print(\"함수 호출 후\")\n",
    "```\n",
    "\n",
    "함수 호출 전   \n",
    "함수 내부  \n",
    "함수 호출 후  \n"
   ]
  },
  {
   "cell_type": "markdown",
   "metadata": {},
   "source": [
    "**20. 아래 코드를 실행했을 때, 각 문자열이 몇 번 출력될까요?**"
   ]
  },
  {
   "cell_type": "markdown",
   "metadata": {},
   "source": [
    "```python\n",
    "def add(a, b):\n",
    "    print(a + b)\n",
    "\n",
    "print(\"시작\")\n",
    "add(10, 20)\n",
    "print(\"종료\")\n",
    "```\n",
    "\n",
    "시작  \n",
    "30  \n",
    "종료"
   ]
  },
  {
   "cell_type": "markdown",
   "metadata": {},
   "source": [
    "**21. 아래 코드를 실행했을 때, 각 문자열이 몇 번 출력될까요?**"
   ]
  },
  {
   "cell_type": "markdown",
   "metadata": {},
   "source": [
    "```python\n",
    "def repeat_hello():\n",
    "    for i in range(2):\n",
    "        print(\"Hello\")\n",
    "\n",
    "repeat_hello()\n",
    "print(\"Bye\")\n",
    "repeat_hello()\n",
    "```\n",
    "\n",
    "Hello   \n",
    "Hello \n",
    "Bye  \n",
    "Hello  \n",
    "Hello\n"
   ]
  },
  {
   "cell_type": "markdown",
   "metadata": {},
   "source": [
    "---"
   ]
  },
  {
   "cell_type": "markdown",
   "metadata": {},
   "source": [
    "#### 복합적 (9문제)"
   ]
  },
  {
   "cell_type": "markdown",
   "metadata": {},
   "source": [
    "**22. 아래 코드를 실행했을 때, 각 문자열이 몇 번 출력될까요?**"
   ]
  },
  {
   "cell_type": "markdown",
   "metadata": {},
   "source": [
    "```python\n",
    "for i in range(5):\n",
    "    if i % 2 == 0:\n",
    "        print(\"짝수:\", i)\n",
    "    else:\n",
    "        print(\"홀수:\", i)\n",
    "```\n",
    "\n",
    "짝수, 0    \n",
    "홀수, 1     \n",
    "짝수, 2   \n",
    "홀수, 3     \n",
    "짝수, 4 \n",
    "\n",
    "\n"
   ]
  },
  {
   "cell_type": "markdown",
   "metadata": {},
   "source": [
    "**23. 아래 코드를 실행했을 때, 각 문자열이 몇 번 출력될까요?**"
   ]
  },
  {
   "cell_type": "markdown",
   "metadata": {},
   "source": [
    "```python\n",
    "x = 10\n",
    "y = 5\n",
    "if x > 5:\n",
    "    print(\"조건 1\")\n",
    "    if y < 10:\n",
    "        print(\"조건 2\")\n",
    "else:\n",
    "    print(\"조건 3\")\n",
    "```\n",
    "\n",
    "조건1   \n",
    "조건2      else 는 조건에 성립하지 않으므로 출력되지 않는다. "
   ]
  },
  {
   "cell_type": "markdown",
   "metadata": {},
   "source": [
    "**24. 아래 코드를 실행했을 때, 각 문자열이 몇 번 출력될까요?**"
   ]
  },
  {
   "cell_type": "markdown",
   "metadata": {},
   "source": [
    "```python\n",
    "def check_age(age):\n",
    "    if age >= 20:\n",
    "        print(\"성인입니다.\")\n",
    "    else:\n",
    "        print(\"미성년자입니다.\")\n",
    "\n",
    "check_age(15)\n",
    "check_age(25)\n",
    "```\n",
    "\n",
    "미성년자입니다.    def 함수 안에 15 와 25를 각각 대입 및 출력 \n",
    "성인입니다. "
   ]
  },
  {
   "cell_type": "markdown",
   "metadata": {},
   "source": [
    "**25. 아래 코드를 실행했을 때, 각 문자열이 몇 번 출력될까요?**"
   ]
  },
  {
   "cell_type": "markdown",
   "metadata": {},
   "source": [
    "```python\n",
    "def print_numbers(n):\n",
    "    for i in range(n):\n",
    "        print(i)\n",
    "\n",
    "print(\"카운트 시작\")\n",
    "print_numbers(3)\n",
    "print(\"카운트 종료\")\n",
    "```\n",
    "\n",
    "카운트 시작    \n",
    "0  \n",
    "1  \n",
    "2  \n",
    "카운트 종료 \n"
   ]
  },
  {
   "cell_type": "markdown",
   "metadata": {},
   "source": [
    "**26. 아래 코드를 실행했을 때, 각 문자열이 몇 번 출력될까요?**"
   ]
  },
  {
   "cell_type": "markdown",
   "metadata": {},
   "source": [
    "```python\n",
    "def check_even_odd(n):\n",
    "    for i in range(n):\n",
    "        if i % 2 == 0:\n",
    "            print(\"짝수\")\n",
    "        else:\n",
    "            print(\"홀수\")\n",
    "\n",
    "check_even_odd(4)\n",
    "``` \n",
    "\n",
    "짝수    \n",
    "홀수    \n",
    "짝수    \n",
    "홀수   "
   ]
  },
  {
   "cell_type": "markdown",
   "metadata": {},
   "source": [
    "**27. 아래 코드를 실행했을 때, 각 문자열이 몇 번 출력될까요?**"
   ]
  },
  {
   "cell_type": "markdown",
   "metadata": {},
   "source": [
    "```python\n",
    "def run_loop(count):\n",
    "    for i in range(count):\n",
    "        print(\"Looping...\")\n",
    "        if i == 1:\n",
    "            print(\"Stop!\")\n",
    "            break\n",
    "run_loop(5)\n",
    "```\n",
    "\n",
    "Looping...  \n",
    "Stop! "
   ]
  },
  {
   "cell_type": "markdown",
   "metadata": {},
   "source": [
    "**28. 아래 코드를 실행했을 때, 각 문자열이 몇 번 출력될까요?**"
   ]
  },
  {
   "cell_type": "markdown",
   "metadata": {},
   "source": [
    "```python\n",
    "for i in range(2):\n",
    "    for j in range(2):\n",
    "        if i == j:\n",
    "            print(f\"i와 j는 같아요: {i}\")\n",
    "```\n",
    "\n",
    "i와 j는 같아요: 0   \n",
    "i와 j는 같아요: 1\n"
   ]
  },
  {
   "cell_type": "markdown",
   "metadata": {},
   "source": [
    "**29. 아래 코드를 실행했을 때, 각 문자열이 몇 번 출력될까요?**"
   ]
  },
  {
   "cell_type": "markdown",
   "metadata": {},
   "source": [
    "```python\n",
    "def calculate_grade(score):\n",
    "    if score >= 90:\n",
    "        print(\"A\")\n",
    "    if score >= 80:\n",
    "        print(\"B\")\n",
    "    if score >= 70:\n",
    "        print(\"C\")\n",
    "    else:\n",
    "        print(\"F\")\n",
    "calculate_grade(85)\n",
    "```\n",
    "\n",
    "B"
   ]
  },
  {
   "cell_type": "markdown",
   "metadata": {},
   "source": [
    "**30. 아래 코드를 실행했을 때, 각 문자열이 몇 번 출력될까요?**"
   ]
  },
  {
   "cell_type": "markdown",
   "metadata": {},
   "source": [
    "```python\n",
    "def main_func():\n",
    "    print(\"메인 함수 시작\")\n",
    "    for i in range(2):\n",
    "        if i == 0:\n",
    "            print(\"i는 0\")\n",
    "        else:\n",
    "            print(\"i는 1\")\n",
    "    print(\"메인 함수 종료\")\n",
    "\n",
    "print(\"프로그램 시작\")\n",
    "main_func()\n",
    "print(\"프로그램 종료\")\n",
    "```\n",
    "\n",
    "메인 함수 시작 \n",
    "i는 0 \n",
    "i는 1\n",
    "메인 함수 종료 \n",
    "\n",
    "프로그램 시작 \n",
    "프로그램 종료 "
   ]
  }
 ],
 "metadata": {
  "kernelspec": {
   "display_name": "ML (3.11.13)",
   "language": "python",
   "name": "python3"
  },
  "language_info": {
   "codemirror_mode": {
    "name": "ipython",
    "version": 3
   },
   "file_extension": ".py",
   "mimetype": "text/x-python",
   "name": "python",
   "nbconvert_exporter": "python",
   "pygments_lexer": "ipython3",
   "version": "3.11.13"
  }
 },
 "nbformat": 4,
 "nbformat_minor": 4
}
