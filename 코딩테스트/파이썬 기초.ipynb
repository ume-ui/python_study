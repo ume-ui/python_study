{
 "cells": [
  {
   "cell_type": "markdown",
   "id": "bcba6543",
   "metadata": {},
   "source": [
    "## 들여쓰기 이해 "
   ]
  },
  {
   "cell_type": "code",
   "execution_count": null,
   "id": "8b626078",
   "metadata": {},
   "outputs": [],
   "source": [
    "## 비슷한 세가지 for 문을 보고 예상 출력값을 알아보자\n",
    "for i in range(10):\n",
    "    print(i)\n",
    "    print(\"반복문 안이야\")\n",
    "    if i % 2 == 0:\n",
    "        print(\"짝수\")\n",
    "        print(\"테스트\") \n",
    "\n",
    "\n",
    "for i in range(10):\n",
    "    print(i)\n",
    "    print(\"반복문 안이야\")\n",
    "    if i % 2 == 0:\n",
    "        print(\"짝수\")\n",
    "    print(\"테스트\")\n",
    "\n",
    "for i in range(10):\n",
    "    print(i)\n",
    "    print(\"반복문 안이야\")\n",
    "    if i % 2 == 0:\n",
    "        print(\"짝수\")\n",
    "print(\"테스트\")"
   ]
  },
  {
   "cell_type": "markdown",
   "id": "ba71ca79",
   "metadata": {},
   "source": [
    "## 들여쓰기 1 \n",
    "1) range의 출력값은 0~9 까지 출력되며 \n",
    "   print(i)에서 순차적으로 출력됨 \n",
    "2) for 문 안에 속해있음으로 0 ~9 까지 출력되는 동안 \n",
    "   빠짐없이 출력('반복문 안이야')\n",
    "3) for 문 안에 속해 있으며 if 함수에 조건에 맞게 되면 \n",
    "   나머지가 '0' 일때 출력한다 \n",
    "   0, 2, 4, 6, 8 일때 \"짝수\"라고 출력되며 \n",
    "4) 조건에 맞는 \"테스트\" 또한 같이 출력된다. \n",
    "\n",
    "## 들여쓰기 2 \n",
    "1) range의 출력값은 0~9 까지 출력되며 \n",
    "   print(i)에서 순차적으로 출력됨 \n",
    "2) for 문 안에 속해있음으로 0 ~9 까지 출력되는 동안 \n",
    "   빠짐없이 출력('반복문 안이야')\n",
    "3)  for 문 안에 속해 있으며 if 함수에 조건에 맞게 되면 \n",
    "   나머지가 '0' 일때 출력한다 \n",
    "   0, 2, 4, 6, 8 일때 \"짝수\"라고 출력된다.\n",
    "\n",
    "4) for 문에 속하나 if 함수에 속하지 않는 \"테스트\"는 \n",
    "   0 ~ 9 까지 계속 출력된다. \n",
    "\n",
    "## 들여쓰기 3 \n",
    "1) range의 출력값은 0~9 까지 출력되며 \n",
    "   print(i)에서 순차적으로 출력됨 \n",
    "2) for 문 안에 속해있음으로 0 ~9 까지 출력되는 동안 \n",
    "   빠짐없이 출력('반복문 안이야')\n",
    "3) for 문 안에 속해 있으며 if 함수에 조건에 맞게 되면 \n",
    "   나머지가 '0' 일때 출력한다 \n",
    "   0, 2, 4, 6, 8 일때 \"짝수\"라고 출력된다.\n",
    "4) for 문에 속하지 않는 \"테스트\"는 \n",
    "   순차적으로 가장 마지막에 한번 출력된다 \n",
    "   즉, for 문 안에 있는 코딩이 끝마치면 그 뒤에 마지막으로 출력된다. \n",
    "\n"
   ]
  },
  {
   "cell_type": "code",
   "execution_count": 4,
   "id": "07a4511f",
   "metadata": {},
   "outputs": [],
   "source": [
    "# for i in range(10):\n",
    "#     print(i)\n",
    "#     print(\"반복문 안이야\")\n",
    "#     if i % 2 == 0:\n",
    "#         print(\"짝수\")\n",
    "#         print(\"테스트\") \n"
   ]
  },
  {
   "cell_type": "markdown",
   "id": "5fe3b178",
   "metadata": {},
   "source": []
  },
  {
   "cell_type": "code",
   "execution_count": 2,
   "id": "8db98b76",
   "metadata": {},
   "outputs": [
    {
     "name": "stdout",
     "output_type": "stream",
     "text": [
      "0\n",
      "반복문 안이야\n",
      "짝수\n",
      "테스트\n",
      "1\n",
      "반복문 안이야\n",
      "테스트\n",
      "2\n",
      "반복문 안이야\n",
      "짝수\n",
      "테스트\n",
      "3\n",
      "반복문 안이야\n",
      "테스트\n",
      "4\n",
      "반복문 안이야\n",
      "짝수\n",
      "테스트\n",
      "5\n",
      "반복문 안이야\n",
      "테스트\n",
      "6\n",
      "반복문 안이야\n",
      "짝수\n",
      "테스트\n",
      "7\n",
      "반복문 안이야\n",
      "테스트\n",
      "8\n",
      "반복문 안이야\n",
      "짝수\n",
      "테스트\n",
      "9\n",
      "반복문 안이야\n",
      "테스트\n"
     ]
    }
   ],
   "source": [
    "for i in range(10):\n",
    "    print(i)\n",
    "    print(\"반복문 안이야\")\n",
    "    if i % 2 == 0:\n",
    "        print(\"짝수\")\n",
    "    print(\"테스트\")"
   ]
  },
  {
   "cell_type": "code",
   "execution_count": 3,
   "id": "a4545229",
   "metadata": {},
   "outputs": [
    {
     "name": "stdout",
     "output_type": "stream",
     "text": [
      "0\n",
      "반복문 안이야\n",
      "짝수\n",
      "1\n",
      "반복문 안이야\n",
      "2\n",
      "반복문 안이야\n",
      "짝수\n",
      "3\n",
      "반복문 안이야\n",
      "4\n",
      "반복문 안이야\n",
      "짝수\n",
      "5\n",
      "반복문 안이야\n",
      "6\n",
      "반복문 안이야\n",
      "짝수\n",
      "7\n",
      "반복문 안이야\n",
      "8\n",
      "반복문 안이야\n",
      "짝수\n",
      "9\n",
      "반복문 안이야\n",
      "테스트\n"
     ]
    }
   ],
   "source": [
    "for i in range(10):\n",
    "    print(i)\n",
    "    print(\"반복문 안이야\")\n",
    "    if i % 2 == 0:\n",
    "        print(\"짝수\")\n",
    "print(\"테스트\")"
   ]
  },
  {
   "cell_type": "code",
   "execution_count": null,
   "id": "0722e84e",
   "metadata": {},
   "outputs": [],
   "source": [
    "# 문제 1. 문자열과 리스트 기초 다루기\n",
    "# 설명: 사용자로부터 이름을 입력받아, 각 글자를 리스트에 담고 출력하는 코드를 작성하시오.\n",
    "# 예시 입력: Yuna\n",
    "# 예시 출력: ['Y', 'u', 'n', 'a']\n",
    "\n",
    "\n",
    "# 문제 2. 조건문과 반복문\n",
    "# 설명: 1부터 100까지의 숫자 중에서 3의 배수만 출력하되,\n",
    "# 출력할 때는 \"3의 배수입니다: 3\" 형식으로 출력하시오.\n",
    "\n",
    "# 예시 출력:\n",
    "# 3의 배수입니다: 3\n",
    "# 3의 배수입니다: 6\n",
    "\n",
    "# 문제 3. 리스트를 이용한 최대값 찾기\n",
    "# 설명: 다음과 같은 숫자 리스트가 있을 때, 가장 큰 수를 찾는 코드를 직접 작성하시오.\n",
    "# (내장함수 max()는 사용하지 마세요)\n",
    "\n",
    "# nums = [13, 7, 21, 5, 18]"
   ]
  },
  {
   "cell_type": "code",
   "execution_count": 1,
   "id": "491cc61d",
   "metadata": {},
   "outputs": [
    {
     "data": {
      "text/plain": [
       "'Yuna'"
      ]
     },
     "execution_count": 1,
     "metadata": {},
     "output_type": "execute_result"
    }
   ],
   "source": [
    "# 문제 1. 문자열과 리스트 기초 다루기\n",
    "# 설명: 사용자로부터 이름을 입력받아, 각 글자를 리스트에 담고 출력하는 코드를 작성하시오.\n",
    "# input : Yuna\n",
    "# output : ['Y', 'u', 'n', 'a']\n",
    "\n",
    "a = 'Y'\n",
    "b = 'u'\n",
    "c = 'n'\n",
    "d = 'a'\n",
    "\n",
    "Yuna = a+b+c+d\n",
    "Yuna"
   ]
  },
  {
   "cell_type": "code",
   "execution_count": null,
   "id": "92efc91f",
   "metadata": {},
   "outputs": [],
   "source": [
    "# 문제 2. 조건문과 반복문\n",
    "# 설명: 1부터 100까지의 숫자 중에서 3의 배수만 출력하되,\n",
    "# 출력할 때는 \"3의 배수입니다: 3\" 형식으로 출력하시오.\n",
    "for i in range[101]\n",
    "    print(i)\n",
    "\n",
    "if i % 3 ==\n",
    "\n",
    "    \n",
    "\n",
    "\n"
   ]
  }
 ],
 "metadata": {
  "kernelspec": {
   "display_name": "ml (3.10.18)",
   "language": "python",
   "name": "python3"
  },
  "language_info": {
   "codemirror_mode": {
    "name": "ipython",
    "version": 3
   },
   "file_extension": ".py",
   "mimetype": "text/x-python",
   "name": "python",
   "nbconvert_exporter": "python",
   "pygments_lexer": "ipython3",
   "version": "3.10.18"
  }
 },
 "nbformat": 4,
 "nbformat_minor": 5
}
